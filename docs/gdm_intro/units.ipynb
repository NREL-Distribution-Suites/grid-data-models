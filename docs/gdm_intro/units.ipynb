{
 "cells": [
  {
   "cell_type": "markdown",
   "metadata": {},
   "source": [
    "# Managing Physical Units\n",
    "\n",
    "- In GDM, all physical quantities are wrapped in pint objects (https://pypi.org/project/Pint/).\n",
    "- Users import physical quantities when building new models or updating model parameters.\n",
    "  - Units are validated for all physical quantities.\n",
    "  - All quantities are imported from `gdm.quantities`.\n",
    "\n",
    "## Creating Quantities\n"
   ]
  },
  {
   "cell_type": "code",
   "execution_count": null,
   "metadata": {},
   "outputs": [],
   "source": [
    "from gdm.quantities import ReactivePower\n",
    "\n",
    "power = ReactivePower(800, \"kilovar\")\n",
    "print(power)"
   ]
  },
  {
   "cell_type": "markdown",
   "metadata": {},
   "source": [
    "The `to` method can be used for unit conversion"
   ]
  },
  {
   "cell_type": "code",
   "execution_count": null,
   "metadata": {},
   "outputs": [],
   "source": [
    "print(power.to(\"var\"))"
   ]
  },
  {
   "cell_type": "markdown",
   "metadata": {},
   "source": [
    "The quantitiy models can be used with list and numpy arrays"
   ]
  },
  {
   "cell_type": "code",
   "execution_count": null,
   "metadata": {},
   "outputs": [],
   "source": [
    "powers = ReactivePower([400, 200, 100], \"kilovar\")\n",
    "print(powers)\n",
    "print(powers.to(\"var\"))"
   ]
  },
  {
   "cell_type": "markdown",
   "metadata": {},
   "source": [
    "In certain cases, additional validation may be performed. e.g. PV systems can only provide active power hence represented by PossitiveActivePower"
   ]
  },
  {
   "cell_type": "code",
   "execution_count": null,
   "metadata": {},
   "outputs": [],
   "source": [
    "from gdm.quantities import PositiveActivePower\n",
    "\n",
    "try:\n",
    "    PositiveActivePower(-700, \"kilowatt\")\n",
    "except Exception as e:\n",
    "    print(e)"
   ]
  },
  {
   "cell_type": "markdown",
   "metadata": {},
   "source": [
    "## Validation Limitations\n",
    "\n",
    "```{warning}\n",
    "Unit validation does not occur until the quantity is added to a data model. In the example below, the `rated_voltage` object is built with incorrect units. It is only validated when we instantiate the `DistributionBus` component.\n",
    "```\n"
   ]
  },
  {
   "cell_type": "code",
   "execution_count": null,
   "metadata": {},
   "outputs": [],
   "source": [
    "from gdm.distribution.enums import LimitType, Phase, VoltageTypes\n",
    "from gdm.distribution.components import DistributionSubstation\n",
    "from gdm.distribution.common.limitset import VoltageLimitSet\n",
    "from gdm.distribution.components import DistributionFeeder\n",
    "from gdm.distribution.components import DistributionBus\n",
    "from gdm.quantities import PositiveVoltage\n",
    "from infrasys import Location\n",
    "\n",
    "rated_voltage = PositiveVoltage(400, \"ampere\")"
   ]
  },
  {
   "cell_type": "code",
   "execution_count": null,
   "metadata": {},
   "outputs": [],
   "source": [
    "bus = DistributionBus(\n",
    "    voltage_type=VoltageTypes.LINE_TO_LINE,\n",
    "    phases=[Phase.A, Phase.B, Phase.C],\n",
    "    rated_voltage=rated_voltage,\n",
    "    name=\"DistBus1\",\n",
    "    substation=DistributionSubstation.example(),\n",
    "    feeder=DistributionFeeder.example(),\n",
    "    voltagelimits=[\n",
    "        VoltageLimitSet(\n",
    "            limit_type=LimitType.MIN, value=PositiveVoltage(400 * 0.9, \"volt\")\n",
    "        ),\n",
    "        VoltageLimitSet(\n",
    "            limit_type=LimitType.MAX, value=PositiveVoltage(400 * 1.1, \"volt\")\n",
    "        ),\n",
    "    ],\n",
    "    coordinate=Location(x=20.0, y=30.0),\n",
    ")"
   ]
  }
 ],
 "metadata": {
  "kernelspec": {
   "display_name": "Python 3",
   "language": "python",
   "name": "python3"
  },
  "language_info": {
   "codemirror_mode": {
    "name": "ipython",
    "version": 3
   },
   "file_extension": ".py",
   "mimetype": "text/x-python",
   "name": "python",
   "nbconvert_exporter": "python",
   "pygments_lexer": "ipython3",
   "version": "3.8.0"
  },
  "widgets": {
   "application/vnd.jupyter.widget-state+json": {
    "state": {},
    "version_major": 2,
    "version_minor": 0
   }
  }
 },
 "nbformat": 4,
 "nbformat_minor": 4
}
