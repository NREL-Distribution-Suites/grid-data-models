{
 "cells": [
  {
   "cell_type": "markdown",
   "metadata": {},
   "source": [
    "# Managing Time-Series Data\n",
    "\n",
    "`Infrasys` systems are designed to assist with the management of systems and their associated datasets. The infrasys package utilizes `Chronofy`, which supports the ingestion of the most commonly used time series data structures in power systems. Infrasys supports both continuous and discontinuous time series datasets.\n",
    "\n",
    "- **SingleTimeSeries**: Used for representing continuous time series datasets. Defined by start time and time step resolution. Data length determines end time.\n",
    "- **NonSequentialTimeSeries**: Used for representing discontinuous time-series data. Each data point is time-stamped in this representation.\n",
    "\n",
    "In the example below, we attach a time series profile to a load in a distribution system. We create an example load model and add it to a system.\n"
   ]
  },
  {
   "cell_type": "code",
   "execution_count": 2,
   "metadata": {},
   "outputs": [],
   "source": [
    "from gdm.distribution.components import DistributionLoad\n",
    "from gdm.distribution import DistributionSystem\n",
    "\n",
    "system =DistributionSystem(auto_add_composed_components=True)\n",
    "load1 = DistributionLoad.example()\n",
    "system.add_component(load1)\n"
   ]
  },
  {
   "cell_type": "markdown",
   "metadata": {},
   "source": [
    "Next, we create a time series object and attach it to the load component. The time series interface also supports unit conversion. A profile is mapped to the parameter of the component to which it is attached. In the example below, the profile is attached to the `active_power` parameter of the `DistributionLoad` component.\n",
    "\n",
    "```{note}\n",
    "1. Time-series profiles can only be added to components already in the system.\n",
    "2. A profile can be mapped to multiple components.\n",
    "3. Multiple profiles can be mapped to an infrasys/gdm component.\n",
    "```\n"
   ]
  },
  {
   "cell_type": "code",
   "execution_count": 3,
   "metadata": {},
   "outputs": [
    {
     "data": {
      "text/plain": [
       "SingleTimeSeriesKey(variable_name='active_power', time_series_type=<class 'infrasys.time_series_models.SingleTimeSeries'>, user_attributes={'profile_type': 'PMult', 'profile_name': 'load_profile_kw', 'use_actual': True}, length=5, initial_time=datetime.datetime(2020, 1, 1, 0, 0), resolution=datetime.timedelta(seconds=1800))"
      ]
     },
     "execution_count": 3,
     "metadata": {},
     "output_type": "execute_result"
    }
   ],
   "source": [
    "from datetime import datetime, timedelta\n",
    "from gdm.quantities import ActivePower\n",
    "from infrasys import SingleTimeSeries\n",
    "\n",
    "load_profile_kw = SingleTimeSeries.from_array(\n",
    "    data=ActivePower([1, 2, 3, 4, 5], \"kilowatt\"),\n",
    "    variable_name=\"active_power\",\n",
    "    initial_time=datetime(2020, 1, 1),\n",
    "    resolution=timedelta(minutes=30),\n",
    ")\n",
    "\n",
    "system.add_time_series(\n",
    "    load_profile_kw,\n",
    "    *[load1],\n",
    "    profile_type=\"PMult\",\n",
    "    profile_name=\"load_profile_kw\",\n",
    "    use_actual=True,\n",
    ")"
   ]
  },
  {
   "cell_type": "markdown",
   "metadata": {},
   "source": [
    "Once added, system info should show number of timeseries profiles added to the system."
   ]
  },
  {
   "cell_type": "code",
   "execution_count": 4,
   "metadata": {},
   "outputs": [
    {
     "data": {
      "text/html": [
       "<pre style=\"white-space:pre;overflow-x:auto;line-height:normal;font-family:Menlo,'DejaVu Sans Mono',consolas,'Courier New',monospace\"><span style=\"font-weight: bold\">System                          </span>\n",
       "┏━━━━━━━━━━━━━━━━━━━━━━┳━━━━━━━┓\n",
       "┃<span style=\"font-weight: bold\"> Property             </span>┃<span style=\"font-weight: bold\"> Value </span>┃\n",
       "┡━━━━━━━━━━━━━━━━━━━━━━╇━━━━━━━┩\n",
       "│ System name          │       │\n",
       "│ Data format version  │ 2.0.0 │\n",
       "│ Components attached  │    10 │\n",
       "│ Time Series attached │     1 │\n",
       "│ Description          │       │\n",
       "└──────────────────────┴───────┘\n",
       "</pre>\n"
      ],
      "text/plain": [
       "\u001b[1mSystem                          \u001b[0m\n",
       "┏━━━━━━━━━━━━━━━━━━━━━━┳━━━━━━━┓\n",
       "┃\u001b[1m \u001b[0m\u001b[1mProperty            \u001b[0m\u001b[1m \u001b[0m┃\u001b[1m \u001b[0m\u001b[1mValue\u001b[0m\u001b[1m \u001b[0m┃\n",
       "┡━━━━━━━━━━━━━━━━━━━━━━╇━━━━━━━┩\n",
       "│ System name          │       │\n",
       "│ Data format version  │ 2.0.0 │\n",
       "│ Components attached  │    10 │\n",
       "│ Time Series attached │     1 │\n",
       "│ Description          │       │\n",
       "└──────────────────────┴───────┘\n"
      ]
     },
     "metadata": {},
     "output_type": "display_data"
    },
    {
     "data": {
      "text/html": [
       "<pre style=\"white-space:pre;overflow-x:auto;line-height:normal;font-family:Menlo,'DejaVu Sans Mono',consolas,'Courier New',monospace\"><span style=\"font-weight: bold\">Component Information             </span>\n",
       "┏━━━━━━━━━━━━━━━━━━━━━━━━┳━━━━━━━┓\n",
       "┃<span style=\"font-weight: bold\"> Type                   </span>┃<span style=\"font-weight: bold\"> Count </span>┃\n",
       "┡━━━━━━━━━━━━━━━━━━━━━━━━╇━━━━━━━┩\n",
       "│ DistributionBus        │     1 │\n",
       "│ DistributionFeeder     │     4 │\n",
       "│ DistributionLoad       │     1 │\n",
       "│ DistributionSubstation │     2 │\n",
       "│ LoadEquipment          │     1 │\n",
       "│ PhaseLoadEquipment     │     1 │\n",
       "└────────────────────────┴───────┘\n",
       "</pre>\n"
      ],
      "text/plain": [
       "\u001b[1mComponent Information             \u001b[0m\n",
       "┏━━━━━━━━━━━━━━━━━━━━━━━━┳━━━━━━━┓\n",
       "┃\u001b[1m \u001b[0m\u001b[1mType                  \u001b[0m\u001b[1m \u001b[0m┃\u001b[1m \u001b[0m\u001b[1mCount\u001b[0m\u001b[1m \u001b[0m┃\n",
       "┡━━━━━━━━━━━━━━━━━━━━━━━━╇━━━━━━━┩\n",
       "│ DistributionBus        │     1 │\n",
       "│ DistributionFeeder     │     4 │\n",
       "│ DistributionLoad       │     1 │\n",
       "│ DistributionSubstation │     2 │\n",
       "│ LoadEquipment          │     1 │\n",
       "│ PhaseLoadEquipment     │     1 │\n",
       "└────────────────────────┴───────┘\n"
      ]
     },
     "metadata": {},
     "output_type": "display_data"
    },
    {
     "data": {
      "text/html": [
       "<pre style=\"white-space:pre;overflow-x:auto;line-height:normal;font-family:Menlo,'DejaVu Sans Mono',consolas,'Courier New',monospace\"><span style=\"font-weight: bold\">Time Series Summary                                                                                                </span>\n",
       "┏━━━━━━━━━━━━━━━━━━━━━━┳━━━━━━━━━━━━━━━━━━┳━━━━━━━━━━━━━━━━━━━━━┳━━━━━━━━━━━━┳━━━━━━━━━━━━━━━━┳━━━━━━━━━━━━━━━━━━━━\n",
       "┃<span style=\"font-weight: bold\">                      </span>┃<span style=\"font-weight: bold\">                  </span>┃<span style=\"font-weight: bold\">                     </span>┃<span style=\"font-weight: bold\">            </span>┃<span style=\"font-weight: bold\">                </span>┃<span style=\"font-weight: bold\">     No. Components </span>\n",
       "┃<span style=\"font-weight: bold\"> Component Type       </span>┃<span style=\"font-weight: bold\"> Time Series Type </span>┃<span style=\"font-weight: bold\">        Initial time </span>┃<span style=\"font-weight: bold\"> Resolution </span>┃<span style=\"font-weight: bold\"> No. Components </span>┃<span style=\"font-weight: bold\">   with Time Series </span>\n",
       "┡━━━━━━━━━━━━━━━━━━━━━━╇━━━━━━━━━━━━━━━━━━╇━━━━━━━━━━━━━━━━━━━━━╇━━━━━━━━━━━━╇━━━━━━━━━━━━━━━━╇━━━━━━━━━━━━━━━━━━━━\n",
       "│ DistributionLoad     │ SingleTimeSeries │ 2020-01-01 00:00:00 │    0:30:00 │              1 │                  1 \n",
       "└──────────────────────┴──────────────────┴─────────────────────┴────────────┴────────────────┴────────────────────\n",
       "</pre>\n"
      ],
      "text/plain": [
       "\u001b[1mTime Series Summary                                                                                                \u001b[0m\n",
       "┏━━━━━━━━━━━━━━━━━━━━━━┳━━━━━━━━━━━━━━━━━━┳━━━━━━━━━━━━━━━━━━━━━┳━━━━━━━━━━━━┳━━━━━━━━━━━━━━━━┳━━━━━━━━━━━━━━━━━━━━\n",
       "┃\u001b[1m                      \u001b[0m┃\u001b[1m                  \u001b[0m┃\u001b[1m                     \u001b[0m┃\u001b[1m            \u001b[0m┃\u001b[1m                \u001b[0m┃\u001b[1m \u001b[0m\u001b[1m    No. Components\u001b[0m\u001b[1m \u001b[0m\n",
       "┃\u001b[1m \u001b[0m\u001b[1mComponent Type      \u001b[0m\u001b[1m \u001b[0m┃\u001b[1m \u001b[0m\u001b[1mTime Series Type\u001b[0m\u001b[1m \u001b[0m┃\u001b[1m \u001b[0m\u001b[1m       Initial time\u001b[0m\u001b[1m \u001b[0m┃\u001b[1m \u001b[0m\u001b[1mResolution\u001b[0m\u001b[1m \u001b[0m┃\u001b[1m \u001b[0m\u001b[1mNo. Components\u001b[0m\u001b[1m \u001b[0m┃\u001b[1m \u001b[0m\u001b[1m  with Time Series\u001b[0m\u001b[1m \u001b[0m\n",
       "┡━━━━━━━━━━━━━━━━━━━━━━╇━━━━━━━━━━━━━━━━━━╇━━━━━━━━━━━━━━━━━━━━━╇━━━━━━━━━━━━╇━━━━━━━━━━━━━━━━╇━━━━━━━━━━━━━━━━━━━━\n",
       "│ DistributionLoad     │ SingleTimeSeries │ 2020-01-01 00:00:00 │    0:30:00 │              1 │                  1 \n",
       "└──────────────────────┴──────────────────┴─────────────────────┴────────────┴────────────────┴────────────────────\n"
      ]
     },
     "metadata": {},
     "output_type": "display_data"
    }
   ],
   "source": [
    "system.info()"
   ]
  },
  {
   "cell_type": "markdown",
   "metadata": {},
   "source": [
    "List of timeseries profiles mapped to a given component can be listed using the `list_time_series` method."
   ]
  },
  {
   "cell_type": "code",
   "execution_count": 5,
   "metadata": {},
   "outputs": [
    {
     "name": "stdout",
     "output_type": "stream",
     "text": [
      "[SingleTimeSeries(variable_name='active_power', normalization=None, data=<Quantity([1 2 3 4 5], 'kilowatt')>, resolution=datetime.timedelta(seconds=1800), initial_time=datetime.datetime(2020, 1, 1, 0, 0), length=5)]\n"
     ]
    }
   ],
   "source": [
    "print(system.list_time_series(load1))\n"
   ]
  },
  {
   "cell_type": "markdown",
   "metadata": {},
   "source": [
    "When a system is serialized, time series data is exported to the `<system name>_timeseries` folder."
   ]
  },
  {
   "cell_type": "markdown",
   "metadata": {},
   "source": []
  }
 ],
 "metadata": {
  "kernelspec": {
   "display_name": "gdm2",
   "language": "python",
   "name": "python3"
  },
  "language_info": {
   "codemirror_mode": {
    "name": "ipython",
    "version": 3
   },
   "file_extension": ".py",
   "mimetype": "text/x-python",
   "name": "python",
   "nbconvert_exporter": "python",
   "pygments_lexer": "ipython3",
   "version": "3.12.0"
  },
  "widgets": {
   "application/vnd.jupyter.widget-state+json": {
    "state": {},
    "version_major": 2,
    "version_minor": 0
   }
  }
 },
 "nbformat": 4,
 "nbformat_minor": 4
}
