{
 "cells": [
  {
   "cell_type": "markdown",
   "metadata": {},
   "source": [
    "# Working with GDMLOADER\n",
    "\n",
    "GDMLOADER is a helper package designed to simplify downloading and loading example distribution system models into your workspace. It provides convenience functions for retrieving prebuilt test cases, allowing you to focus on using the models rather than building them from scratch.\n",
    "\n",
    "First, we will add sources to `SystemLoader` and explore the available test cases.\n",
    "\n",
    "```{note}\n",
    "Public cases are currently hosted on Google Cloud. However, GDMLOADER allows users to manage private sources (not covered in this tutorial). Contact the GDM team if you are interested in learning more.\n",
    "```\n",
    "\n",
    "## Setting Up Data Source\n"
   ]
  },
  {
   "cell_type": "code",
   "execution_count": 1,
   "metadata": {},
   "outputs": [
    {
     "data": {
      "text/html": [
       "<pre style=\"white-space:pre;overflow-x:auto;line-height:normal;font-family:Menlo,'DejaVu Sans Mono',consolas,'Courier New',monospace\">┏━━━━━━━━━━┳━━━━━━━━━━━━━━━━━━━━━━━━━━━━━━━━━━━━━━━━━┓\n",
       "┃<span style=\"font-weight: bold\">     Name </span>┃<span style=\"font-weight: bold\"> URL                                     </span>┃\n",
       "┡━━━━━━━━━━╇━━━━━━━━━━━━━━━━━━━━━━━━━━━━━━━━━━━━━━━━━┩\n",
       "│<span style=\"color: #008080; text-decoration-color: #008080\"> gdm_data </span>│<span style=\"color: #800080; text-decoration-color: #800080\"> https://storage.googleapis.com/gdm_data </span>│\n",
       "└──────────┴─────────────────────────────────────────┘\n",
       "</pre>\n"
      ],
      "text/plain": [
       "┏━━━━━━━━━━┳━━━━━━━━━━━━━━━━━━━━━━━━━━━━━━━━━━━━━━━━━┓\n",
       "┃\u001b[1m \u001b[0m\u001b[1m    Name\u001b[0m\u001b[1m \u001b[0m┃\u001b[1m \u001b[0m\u001b[1mURL                                    \u001b[0m\u001b[1m \u001b[0m┃\n",
       "┡━━━━━━━━━━╇━━━━━━━━━━━━━━━━━━━━━━━━━━━━━━━━━━━━━━━━━┩\n",
       "│\u001b[36m \u001b[0m\u001b[36mgdm_data\u001b[0m\u001b[36m \u001b[0m│\u001b[35m \u001b[0m\u001b[35mhttps://storage.googleapis.com/gdm_data\u001b[0m\u001b[35m \u001b[0m│\n",
       "└──────────┴─────────────────────────────────────────┘\n"
      ]
     },
     "metadata": {},
     "output_type": "display_data"
    }
   ],
   "source": [
    "from gdmloader.constants import GCS_CASE_SOURCE\n",
    "from gdmloader.source import SystemLoader\n",
    "\n",
    "gdm_loader = SystemLoader()\n",
    "gdm_loader.add_source(GCS_CASE_SOURCE)\n",
    "gdm_loader.show_sources()"
   ]
  },
  {
   "cell_type": "markdown",
   "metadata": {},
   "source": [
    "## Viewing Available Models\n",
    "\n",
    "Sources are designed to support all systems in GDM, including DistributionSystem, CatalogSystem, and StructuralSystem. You can view all available models hosted by the source using the `show_dataset_by_source` method.\n"
   ]
  },
  {
   "cell_type": "code",
   "execution_count": null,
   "metadata": {},
   "outputs": [],
   "source": [
    "gdm_loader.show_dataset_by_source(\"gdm_data\")"
   ]
  },
  {
   "cell_type": "markdown",
   "metadata": {},
   "source": [
    "Alternatively, models for a specific system can be viewed using the `show_dataset_by_system` method."
   ]
  },
  {
   "cell_type": "code",
   "execution_count": null,
   "metadata": {},
   "outputs": [],
   "source": [
    "gdm_loader.show_dataset_by_system(\"DistributionSystem\", \"gdm_data\")"
   ]
  },
  {
   "cell_type": "markdown",
   "metadata": {},
   "source": [
    "## Downloading case files\n",
    "\n",
    "Users can download specific models using the `load_dataset` method.\n",
    "\n",
    "```{note}\n",
    "By default, gdmloader downloads the model version that corresponds to the installed GDM version. However, users can specify a different version they wish to download.\n",
    "```"
   ]
  },
  {
   "cell_type": "code",
   "execution_count": 1,
   "metadata": {},
   "outputs": [
    {
     "ename": "NameError",
     "evalue": "name 'gdm_loader' is not defined",
     "output_type": "error",
     "traceback": [
      "\u001b[31m---------------------------------------------------------------------------\u001b[39m",
      "\u001b[31mNameError\u001b[39m                                 Traceback (most recent call last)",
      "\u001b[36mCell\u001b[39m\u001b[36m \u001b[39m\u001b[32mIn[1]\u001b[39m\u001b[32m, line 2\u001b[39m\n\u001b[32m      1\u001b[39m \u001b[38;5;28;01mfrom\u001b[39;00m\u001b[38;5;250m \u001b[39m\u001b[34;01mgdm\u001b[39;00m\u001b[34;01m.\u001b[39;00m\u001b[34;01mdistribution\u001b[39;00m\u001b[38;5;250m \u001b[39m\u001b[38;5;28;01mimport\u001b[39;00m DistributionSystem\n\u001b[32m----> \u001b[39m\u001b[32m2\u001b[39m distribution_system: DistributionSystem = \u001b[43mgdm_loader\u001b[49m.load_dataset(\n\u001b[32m      3\u001b[39m     system_type=DistributionSystem, \n\u001b[32m      4\u001b[39m     source_name=\u001b[33m\"\u001b[39m\u001b[33mgdm_data\u001b[39m\u001b[33m\"\u001b[39m, \n\u001b[32m      5\u001b[39m     dataset_name=\u001b[33m\"\u001b[39m\u001b[33mp5r\u001b[39m\u001b[33m\"\u001b[39m,\n\u001b[32m      6\u001b[39m )\n",
      "\u001b[31mNameError\u001b[39m: name 'gdm_loader' is not defined"
     ]
    }
   ],
   "source": [
    "from gdm.distribution import DistributionSystem\n",
    "distribution_system: DistributionSystem = gdm_loader.load_dataset(\n",
    "    system_type=DistributionSystem, \n",
    "    source_name=\"gdm_data\", \n",
    "    dataset_name=\"p5r\",\n",
    ")"
   ]
  },
  {
   "cell_type": "markdown",
   "metadata": {},
   "source": [
    "Downloaded models are cached on the local machine for improved performance. Users can view system information using the `info` method on the system instance.\n"
   ]
  },
  {
   "cell_type": "code",
   "execution_count": null,
   "metadata": {},
   "outputs": [],
   "source": [
    "distribution_system.name = \"P5R\"\n",
    "distribution_system.info()"
   ]
  }
 ],
 "metadata": {
  "kernelspec": {
   "display_name": "erad",
   "language": "python",
   "name": "python3"
  },
  "language_info": {
   "codemirror_mode": {
    "name": "ipython",
    "version": 3
   },
   "file_extension": ".py",
   "mimetype": "text/x-python",
   "name": "python",
   "nbconvert_exporter": "python",
   "pygments_lexer": "ipython3",
   "version": "3.12.0"
  },
  "widgets": {
   "application/vnd.jupyter.widget-state+json": {
    "state": {},
    "version_major": 2,
    "version_minor": 0
   }
  }
 },
 "nbformat": 4,
 "nbformat_minor": 4
}
