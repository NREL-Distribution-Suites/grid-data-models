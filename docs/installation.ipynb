{
 "cells": [
  {
   "cell_type": "markdown",
   "metadata": {},
   "source": [
    "# Installing Dependencies\n",
    "\n",
    "Before getting started with the tutorial, you’ll need to install a couple of Python packages that provide the core functionality and supporting tools for working with Grid Data Models (GDM).\n",
    "\n",
    "**grid-data-models** – This is the primary package that provides the foundational data models and validation logic used throughout the tutorial. It includes the Pydantic-based model definitions, unit handling via pint, time series support, connectivity validation, and integration with graph analysis tools like NetworkX.\n",
    "\n",
    "**gdmloader** – This is a helper package designed to simplify the process of downloading and loading example distribution system models into your workspace. It provides convenience functions for retrieving prebuilt test cases, allowing you to focus on using the models rather than building them from scratch.\n",
    "\n",
    "Make sure to install both packages in your Python environment before proceeding with the tutorial."
   ]
  },
  {
   "cell_type": "code",
   "execution_count": null,
   "metadata": {
    "vscode": {
     "languageId": "shellscript"
    }
   },
   "outputs": [],
   "source": [
    "pip install grid-data-models gdmloader"
   ]
  }
 ],
 "metadata": {
  "kernelspec": {
   "display_name": "Python 3",
   "language": "python",
   "name": "python3"
  },
  "language_info": {
   "codemirror_mode": {
    "name": "ipython",
    "version": 3
   },
   "file_extension": ".py",
   "mimetype": "text/x-python",
   "name": "python",
   "nbconvert_exporter": "python",
   "pygments_lexer": "ipython3",
   "version": "3.8.0"
  },
  "widgets": {
   "application/vnd.jupyter.widget-state+json": {
    "state": {},
    "version_major": 2,
    "version_minor": 0
   }
  }
 },
 "nbformat": 4,
 "nbformat_minor": 4
}
