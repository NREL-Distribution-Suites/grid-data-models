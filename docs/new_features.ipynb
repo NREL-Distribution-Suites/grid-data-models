{
 "cells": [
  {
   "cell_type": "markdown",
   "metadata": {},
   "source": [
    "# Recent Feature Additions"
   ]
  },
  {
   "cell_type": "markdown",
   "metadata": {},
   "source": [
    "## Version 2.1.2\n",
    "### Support to line impedance calculations\n",
    "\n",
    "$\\quad$ `GeometryBranch` models can now be converted to `MatrixImpedanceBranch` model representation using the `to_matrix_representation` method.\n",
    "\n",
    "```python\n",
    "from gdm.distribution.components import GeometryBranch, MatrixImpedanceBranch\n",
    "\n",
    "g = GeometryBranch.example()\n",
    "h: MatrixImpedanceBranch = g.to_matrix_representation()\n",
    "```\n",
    "\n",
    "$\\quad$ All `GeometryBranch` models in a given system can noe be replaced with `MatrixImpedanceBranch` model representation using the `convert_geometry_to_matrix_representation` method for DistributionSystem objects.\n",
    "\n",
    "```python\n",
    "from gdm.distribution import DistributionSystem\n",
    "\n",
    "sys = DistributionSystem.from_json(filename=<path to model>, \n",
    "sys.convert_geometry_to_matrix_representation()\n",
    "```\n"
   ]
  },
  {
   "cell_type": "markdown",
   "metadata": {},
   "source": [
    "### Change to TrackChange object\n",
    "\n",
    "$\\quad$ `update_date` has been changed to `timestamp`. Now requires datetime object rather than date object..\n",
    "\n",
    "```python\n",
    "class TrackedChange(InfraSysBaseModel):\n",
    "    .\n",
    "    .\n",
    "    .\n",
    "    \n",
    "    update_date: Annotated[\n",
    "        timestamp | None,\n",
    "        Field(\n",
    "            None,\n",
    "            description=\"If these changes are to be applied on specific timestamp, provide a timestamp, else leave it blank\",\n",
    "        ),\n",
    "    ]\n",
    "    .\n",
    "    .\n",
    "    .\n",
    "```"
   ]
  },
  {
   "cell_type": "markdown",
   "metadata": {},
   "source": [
    "## Version 2.1.0\n",
    "### Improved validation for physical quantities\n",
    "\n",
    "$\\quad$ All Positive quantities have been removed. Additional constraints are now applied using Pydantic Field class. Reduces the number of class definations for physical quantities significantly."
   ]
  },
  {
   "cell_type": "markdown",
   "metadata": {},
   "source": [
    "### Initial implementation to manage backward compatability for DistributionSystems\n",
    "\n",
    "$\\quad$ Going forward (v2.0.0 onwards), users will be able to load older models with newer GDM installations by passing the upgrade handler object, when loading the model from a json file.\n",
    "\n",
    "```python\n",
    "from gdm.distribution import DistributionSystem\n",
    "from gdm.distribution.upgrade_handler.upgrade_handler import UpgradeHandle\n",
    "\n",
    "upgrade_handler = UpgradeHandler()\n",
    "DistributionSystem.from_json(filename=<path to model>, \n",
    "upgrade_handler=upgrade_handler.upgrade)\n",
    "```"
   ]
  },
  {
   "cell_type": "markdown",
   "metadata": {},
   "source": [
    "### Support  to create a deepcopy of GDM system\n",
    "\n",
    "$\\quad$ Added functionality to easily create a deep copy of any GDM system object, ensuring that modifications to the copy do not affect the original instance.\n",
    "\n",
    "```python\n",
    "from gdm.distribution import DistributionSystem\n",
    "\n",
    "system = DistributionSystem.from_json(filename=<path to model>)\n",
    "system_copy = system.deepcopy()\n",
    "```"
   ]
  }
 ],
 "metadata": {
  "kernelspec": {
   "display_name": "gdm",
   "language": "python",
   "name": "python3"
  },
  "language_info": {
   "codemirror_mode": {
    "name": "ipython",
    "version": 3
   },
   "file_extension": ".py",
   "mimetype": "text/x-python",
   "name": "python",
   "nbconvert_exporter": "python",
   "pygments_lexer": "ipython3",
   "version": "3.12.0"
  },
  "widgets": {
   "application/vnd.jupyter.widget-state+json": {
    "state": {},
    "version_major": 2,
    "version_minor": 0
   }
  }
 },
 "nbformat": 4,
 "nbformat_minor": 4
}
