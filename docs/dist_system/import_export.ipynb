{
 "cells": [
  {
   "cell_type": "markdown",
   "metadata": {},
   "source": [
    "# Importing and Exporting Systems\n",
    "\n",
    "1. All Infrasys systems can be serialized and deserialized using the `to_json` and `from_json` methods.\n",
    "2. The `DistributionSystem` class can also be exported to GeoDataFrame and GeoJSON formats using the `to_gdf` and `to_geojson` methods.\n",
    "\n",
    "We start by loading a sample distribution system.\n"
   ]
  },
  {
   "cell_type": "code",
   "execution_count": 1,
   "metadata": {},
   "outputs": [
    {
     "name": "stderr",
     "output_type": "stream",
     "text": [
      "/opt/homebrew/Caskroom/miniconda/base/envs/gdm2/lib/python3.12/site-packages/pydantic/_internal/_generate_schema.py:502: UserWarning: Ellipsis is not a Python type (it may be an instance of an object), Pydantic will allow any object with no validation since we cannot even enforce that the input is an instance of the given type. To get rid of this error wrap the type with `pydantic.SkipValidation`.\n",
      "  warn(\n"
     ]
    }
   ],
   "source": [
    "from gdm.distribution import DistributionSystem\n",
    "from gdmloader.constants import GCS_CASE_SOURCE\n",
    "from gdmloader.source import SystemLoader\n",
    "\n",
    "gdm_loader = SystemLoader()\n",
    "gdm_loader.add_source(GCS_CASE_SOURCE)\n",
    "\n",
    "distribution_system: DistributionSystem = gdm_loader.load_dataset(\n",
    "    source_name=GCS_CASE_SOURCE.name, \n",
    "    system_type=DistributionSystem, \n",
    "    dataset_name=\"p5r\",\n",
    ")\n",
    "distribution_system.name = \"P5R\""
   ]
  },
  {
   "cell_type": "markdown",
   "metadata": {},
   "source": [
    "The `DistributionSystem` can be serialized to disk using the `to_json` method. If the model already exists, set the `overwrite` parameter to `True`. Serialization ensures no loss of information. The JSON file can be deserialized using the `from_json` method.\n"
   ]
  },
  {
   "cell_type": "code",
   "execution_count": 2,
   "metadata": {},
   "outputs": [],
   "source": [
    "distribution_system.to_json(\"test.json\", overwrite=True)\n",
    "system = DistributionSystem.from_json(\"test.json\")"
   ]
  },
  {
   "cell_type": "markdown",
   "metadata": {},
   "source": [
    "The `DistributionSystem` can also be exported in GeoDataFrame and GeoJSON formats.\n",
    "\n",
    "```{warning}\n",
    "Limited model information is exported in these formats. Model deserialization is not supported for these formats.\n",
    "```\n"
   ]
  },
  {
   "cell_type": "markdown",
   "metadata": {},
   "source": [
    "system.to_gdf(\"test.csv\")\n",
    "system.to_geojson(\"test.geojson\")"
   ]
  },
  {
   "cell_type": "code",
   "execution_count": 3,
   "metadata": {},
   "outputs": [],
   "source": [
    "system.to_gdf(\"test.csv\")\n",
    "system.to_geojson(\"test.geojson\")"
   ]
  }
 ],
 "metadata": {
  "kernelspec": {
   "display_name": "gdm2",
   "language": "python",
   "name": "python3"
  },
  "language_info": {
   "codemirror_mode": {
    "name": "ipython",
    "version": 3
   },
   "file_extension": ".py",
   "mimetype": "text/x-python",
   "name": "python",
   "nbconvert_exporter": "python",
   "pygments_lexer": "ipython3",
   "version": "3.12.0"
  },
  "widgets": {
   "application/vnd.jupyter.widget-state+json": {
    "state": {},
    "version_major": 2,
    "version_minor": 0
   }
  }
 },
 "nbformat": 4,
 "nbformat_minor": 4
}
