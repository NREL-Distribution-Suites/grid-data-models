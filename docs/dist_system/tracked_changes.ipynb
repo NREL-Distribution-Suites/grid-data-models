{
 "cells": [
  {
   "cell_type": "markdown",
   "metadata": {},
   "source": [
    "# Tracking Changes in GDM\n",
    "\n",
    "The grid-data-models (GDM) package includes comprehensive support for modeling tracked changes within a distribution system. This functionality allows users to effectively manage changes to a base grid model, enabling dynamic analysis and scenario planning. All tracked changes are built upon a single base GDM model, ensuring a consistent foundation for analysis. The system allows for edits, additions, and deletions to a base GDM model at specific timestamps. Each modification is tracked and stored, providing a clear history of changes over time.\n",
    "\n",
    "We will use the gdmloader package to first download a sample GDM model.\n",
    "\n"
   ]
  },
  {
   "cell_type": "code",
   "execution_count": 14,
   "metadata": {},
   "outputs": [
    {
     "data": {
      "text/html": [
       "<pre style=\"white-space:pre;overflow-x:auto;line-height:normal;font-family:Menlo,'DejaVu Sans Mono',consolas,'Courier New',monospace\"><span style=\"font-weight: bold\">System                          </span>\n",
       "┏━━━━━━━━━━━━━━━━━━━━━━┳━━━━━━━┓\n",
       "┃<span style=\"font-weight: bold\"> Property             </span>┃<span style=\"font-weight: bold\"> Value </span>┃\n",
       "┡━━━━━━━━━━━━━━━━━━━━━━╇━━━━━━━┩\n",
       "│ System name          │       │\n",
       "│ Data format version  │ 2.0.0 │\n",
       "│ Components attached  │   437 │\n",
       "│ Time Series attached │     0 │\n",
       "│ Description          │       │\n",
       "└──────────────────────┴───────┘\n",
       "</pre>\n"
      ],
      "text/plain": [
       "\u001b[1mSystem                          \u001b[0m\n",
       "┏━━━━━━━━━━━━━━━━━━━━━━┳━━━━━━━┓\n",
       "┃\u001b[1m \u001b[0m\u001b[1mProperty            \u001b[0m\u001b[1m \u001b[0m┃\u001b[1m \u001b[0m\u001b[1mValue\u001b[0m\u001b[1m \u001b[0m┃\n",
       "┡━━━━━━━━━━━━━━━━━━━━━━╇━━━━━━━┩\n",
       "│ System name          │       │\n",
       "│ Data format version  │ 2.0.0 │\n",
       "│ Components attached  │   437 │\n",
       "│ Time Series attached │     0 │\n",
       "│ Description          │       │\n",
       "└──────────────────────┴───────┘\n"
      ]
     },
     "metadata": {},
     "output_type": "display_data"
    },
    {
     "data": {
      "text/html": [
       "<pre style=\"white-space:pre;overflow-x:auto;line-height:normal;font-family:Menlo,'DejaVu Sans Mono',consolas,'Courier New',monospace\"><span style=\"font-weight: bold\">Component Information                       </span>\n",
       "┏━━━━━━━━━━━━━━━━━━━━━━━━━━━━━━━━━━┳━━━━━━━┓\n",
       "┃<span style=\"font-weight: bold\"> Type                             </span>┃<span style=\"font-weight: bold\"> Count </span>┃\n",
       "┡━━━━━━━━━━━━━━━━━━━━━━━━━━━━━━━━━━╇━━━━━━━┩\n",
       "│ DistributionBus                  │    86 │\n",
       "│ DistributionLoad                 │    45 │\n",
       "│ DistributionTransformer          │    21 │\n",
       "│ DistributionTransformerEquipment │     5 │\n",
       "│ DistributionVoltageSource        │     1 │\n",
       "│ LoadEquipment                    │    45 │\n",
       "│ Location                         │     1 │\n",
       "│ MatrixImpedanceBranch            │    55 │\n",
       "│ MatrixImpedanceBranchEquipment   │    10 │\n",
       "│ MatrixImpedanceSwitch            │    12 │\n",
       "│ MatrixImpedanceSwitchEquipment   │     1 │\n",
       "│ PhaseLoadEquipment               │   135 │\n",
       "│ PhaseVoltageSourceEquipment      │     3 │\n",
       "│ VoltageLimitSet                  │     6 │\n",
       "│ VoltageSourceEquipment           │     1 │\n",
       "│ WindingEquipment                 │    10 │\n",
       "└──────────────────────────────────┴───────┘\n",
       "</pre>\n"
      ],
      "text/plain": [
       "\u001b[1mComponent Information                       \u001b[0m\n",
       "┏━━━━━━━━━━━━━━━━━━━━━━━━━━━━━━━━━━┳━━━━━━━┓\n",
       "┃\u001b[1m \u001b[0m\u001b[1mType                            \u001b[0m\u001b[1m \u001b[0m┃\u001b[1m \u001b[0m\u001b[1mCount\u001b[0m\u001b[1m \u001b[0m┃\n",
       "┡━━━━━━━━━━━━━━━━━━━━━━━━━━━━━━━━━━╇━━━━━━━┩\n",
       "│ DistributionBus                  │    86 │\n",
       "│ DistributionLoad                 │    45 │\n",
       "│ DistributionTransformer          │    21 │\n",
       "│ DistributionTransformerEquipment │     5 │\n",
       "│ DistributionVoltageSource        │     1 │\n",
       "│ LoadEquipment                    │    45 │\n",
       "│ Location                         │     1 │\n",
       "│ MatrixImpedanceBranch            │    55 │\n",
       "│ MatrixImpedanceBranchEquipment   │    10 │\n",
       "│ MatrixImpedanceSwitch            │    12 │\n",
       "│ MatrixImpedanceSwitchEquipment   │     1 │\n",
       "│ PhaseLoadEquipment               │   135 │\n",
       "│ PhaseVoltageSourceEquipment      │     3 │\n",
       "│ VoltageLimitSet                  │     6 │\n",
       "│ VoltageSourceEquipment           │     1 │\n",
       "│ WindingEquipment                 │    10 │\n",
       "└──────────────────────────────────┴───────┘\n"
      ]
     },
     "metadata": {},
     "output_type": "display_data"
    }
   ],
   "source": [
    "from gdm.distribution import DistributionSystem\n",
    "from gdm.quantities import PositiveDistance\n",
    "from gdmloader.constants import GCS_CASE_SOURCE\n",
    "from gdmloader.source import SystemLoader\n",
    "\n",
    "loader = SystemLoader()\n",
    "loader.add_source(GCS_CASE_SOURCE)\n",
    "base_model: DistributionSystem  = loader.load_dataset(\n",
    "    DistributionSystem, GCS_CASE_SOURCE.name, \"three_feeder_switch\"\n",
    ")\n",
    "base_model.auto_add_composed_components = True\n",
    "base_model.info()"
   ]
  },
  {
   "cell_type": "markdown",
   "metadata": {},
   "source": [
    "Next, we will build a catalog of components that will serve as an equipment library for additions to the base model and map to temporal changes in the base model. In this catalog, we add two example models with fixed UUIDs that will later be used for temporal mapping.\n"
   ]
  },
  {
   "cell_type": "code",
   "execution_count": 3,
   "metadata": {},
   "outputs": [],
   "source": [
    "from gdm.distribution.equipment import LoadEquipment\n",
    "from uuid import UUID, uuid4\n",
    "\n",
    "catalog = DistributionSystem(auto_add_composed_components=True)\n",
    "load_equipment = LoadEquipment.example().model_copy(\n",
    "    update={\n",
    "        \"uuid\": UUID(\"aaaaaaaa-aaaa-aaaa-aaaa-aaaaaaaaaaaa\"),\n",
    "        \"name\": \"added_phase_load_model\",\n",
    "    }\n",
    ")\n",
    "catalog.add_component(load_equipment)"
   ]
  },
  {
   "cell_type": "markdown",
   "metadata": {},
   "source": [
    "From the model, we get a line model and two load models. These components will be modified to reflect changes in the base model."
   ]
  },
  {
   "cell_type": "code",
   "execution_count": 7,
   "metadata": {},
   "outputs": [],
   "source": [
    "from gdm.distribution.components import DistributionLoad, MatrixImpedanceBranch\n",
    "\n",
    "line = next(base_model.get_components(MatrixImpedanceBranch))\n",
    "load1, load2 = list(base_model.get_components(DistributionLoad))[:2]"
   ]
  },
  {
   "cell_type": "markdown",
   "metadata": {},
   "source": [
    "Each `TrackedChange` object has a scenario name. Additionally, this object may have a date field that can be used to filter changes based on specific dates. Each `TrackedChange` includes a list of system additions, edits, and deletions to be applied on the specified date.\n",
    "\n",
    "- **Additions**: This is a list attribute that holds the UUIDs of the components added in this modification. These UUIDs should exist in the catalog.\n",
    "\n",
    "- **Deletions**: This is a list attribute that holds the UUIDs of the components deleted in this modification. These UUIDs should exist in the base system model.\n",
    "\n",
    "- **Edits**: This is a list attribute that holds the `PropertyEdit` objects representing the edits made in this modification. `PropertyEdit` requires the name of the property to be edited, the new value of the property, and the `component_uuid` that maps to the modified component.\n",
    "\n",
    "```{warning}\n",
    "When editing the property of an existing component, ensure you use the same quantity/component type as defined in the model definition. For example, when modifying the length property of a distribution branch, `PositiveDistance` is used to define the new value in the example below.\n",
    "```\n"
   ]
  },
  {
   "cell_type": "code",
   "execution_count": 18,
   "metadata": {},
   "outputs": [],
   "source": [
    "from gdm.tracked_changes import PropertyEdit, TrackedChange\n",
    "from gdm.quantities import Distance\n",
    "\n",
    "system_changes = [\n",
    "    TrackedChange(\n",
    "        scenario_name=\"scenario_1\",\n",
    "        update_date=\"2022-01-01\",\n",
    "        edits=[\n",
    "            PropertyEdit(\n",
    "                component_uuid=line.uuid,\n",
    "                name=\"length\",\n",
    "                value=Distance(100, \"meter\"),\n",
    "            )\n",
    "        ],\n",
    "    ),\n",
    "    TrackedChange(\n",
    "        scenario_name=\"scenario_1\",\n",
    "        update_date=\"2023-01-01\",\n",
    "        additions=[\"aaaaaaaa-aaaa-aaaa-aaaa-aaaaaaaaaaaa\"],\n",
    "    ),\n",
    "    TrackedChange(\n",
    "        scenario_name=\"scenario_1\",\n",
    "        update_date=\"2024-01-01\",\n",
    "        deletions=[load1.uuid],\n",
    "    ),\n",
    "    TrackedChange(\n",
    "        scenario_name=\"scenario_2\",\n",
    "        update_date=\"2025-01-01\",\n",
    "        deletions=[load2.uuid],\n",
    "    ),\n",
    "]"
   ]
  },
  {
   "cell_type": "markdown",
   "metadata": {},
   "source": [
    "Next, we use `filter_tracked_changes_by_name_and_date` to filter a list of tracked changes based on a specific scenario name and / or update date."
   ]
  },
  {
   "cell_type": "code",
   "execution_count": 19,
   "metadata": {},
   "outputs": [],
   "source": [
    "from gdm.tracked_changes import filter_tracked_changes_by_name_and_date\n",
    "from datetime import datetime\n",
    "\n",
    "tracked_changes = filter_tracked_changes_by_name_and_date(\n",
    "    system_changes,\n",
    "    scenario_name=\"scenario_1\",\n",
    "    update_date=datetime.strptime(\"2022-1-1\", \"%Y-%m-%d\").date(),\n",
    ")"
   ]
  },
  {
   "cell_type": "markdown",
   "metadata": {},
   "source": [
    "Finally, we use functions provided by the GDM library to apply changes to the base distribution system model."
   ]
  },
  {
   "cell_type": "code",
   "execution_count": null,
   "metadata": {},
   "outputs": [
    {
     "data": {
      "text/html": [
       "<pre style=\"white-space:pre;overflow-x:auto;line-height:normal;font-family:Menlo,'DejaVu Sans Mono',consolas,'Courier New',monospace\"><span style=\"font-style: italic\">                                           Updates applied to the system                                           </span>\n",
       "┏━━━━━━━━━━━━┳━━━━━━━━━━━┳━━━━━━━━━━━━━━━━━━━┳━━━━━━━━━━━━━━━━━━━┳━━━━━━━━━━━━━━━━━━━┳━━━━━━━━━━━━━━━┳━━━━━━━━━━━━┓\n",
       "┃<span style=\"font-weight: bold\">  Timestamp </span>┃<span style=\"font-weight: bold\"> Operation </span>┃<span style=\"font-weight: bold\">              UUID </span>┃<span style=\"font-weight: bold\">    Component Type </span>┃<span style=\"font-weight: bold\">    Component Name </span>┃<span style=\"font-weight: bold\"> Connected bus </span>┃<span style=\"font-weight: bold\">   Scenario </span>┃\n",
       "┡━━━━━━━━━━━━╇━━━━━━━━━━━╇━━━━━━━━━━━━━━━━━━━╇━━━━━━━━━━━━━━━━━━━╇━━━━━━━━━━━━━━━━━━━╇━━━━━━━━━━━━━━━╇━━━━━━━━━━━━┩\n",
       "│<span style=\"color: #008080; text-decoration-color: #008080\"> 2022-01-01 </span>│<span style=\"color: #800080; text-decoration-color: #800080\"> Edit      </span>│<span style=\"color: #ff00ff; text-decoration-color: #ff00ff\"> 8f98b0f7-e4ff-4a… </span>│<span style=\"color: #008080; text-decoration-color: #008080\"> MatrixImpedanceB… </span>│<span style=\"color: #008000; text-decoration-color: #008000\"> sourcebus_connec… </span>│<span style=\"color: #ff0000; text-decoration-color: #ff0000\">     sourcebus </span>│<span style=\"color: #00d7ff; text-decoration-color: #00d7ff\"> scenario_1 </span>│\n",
       "│<span style=\"color: #008080; text-decoration-color: #008080\">            </span>│<span style=\"color: #800080; text-decoration-color: #800080\">           </span>│<span style=\"color: #ff00ff; text-decoration-color: #ff00ff\">                   </span>│<span style=\"color: #008080; text-decoration-color: #008080\">                   </span>│<span style=\"color: #008000; text-decoration-color: #008000\">                   </span>│<span style=\"color: #ff0000; text-decoration-color: #ff0000\">     connector </span>│<span style=\"color: #00d7ff; text-decoration-color: #00d7ff\">            </span>│\n",
       "└────────────┴───────────┴───────────────────┴───────────────────┴───────────────────┴───────────────┴────────────┘\n",
       "</pre>\n"
      ],
      "text/plain": [
       "\u001b[3m                                           Updates applied to the system                                           \u001b[0m\n",
       "┏━━━━━━━━━━━━┳━━━━━━━━━━━┳━━━━━━━━━━━━━━━━━━━┳━━━━━━━━━━━━━━━━━━━┳━━━━━━━━━━━━━━━━━━━┳━━━━━━━━━━━━━━━┳━━━━━━━━━━━━┓\n",
       "┃\u001b[1m \u001b[0m\u001b[1m Timestamp\u001b[0m\u001b[1m \u001b[0m┃\u001b[1m \u001b[0m\u001b[1mOperation\u001b[0m\u001b[1m \u001b[0m┃\u001b[1m \u001b[0m\u001b[1m             UUID\u001b[0m\u001b[1m \u001b[0m┃\u001b[1m \u001b[0m\u001b[1m   Component Type\u001b[0m\u001b[1m \u001b[0m┃\u001b[1m \u001b[0m\u001b[1m   Component Name\u001b[0m\u001b[1m \u001b[0m┃\u001b[1m \u001b[0m\u001b[1mConnected bus\u001b[0m\u001b[1m \u001b[0m┃\u001b[1m \u001b[0m\u001b[1m  Scenario\u001b[0m\u001b[1m \u001b[0m┃\n",
       "┡━━━━━━━━━━━━╇━━━━━━━━━━━╇━━━━━━━━━━━━━━━━━━━╇━━━━━━━━━━━━━━━━━━━╇━━━━━━━━━━━━━━━━━━━╇━━━━━━━━━━━━━━━╇━━━━━━━━━━━━┩\n",
       "│\u001b[36m \u001b[0m\u001b[36m2022-01-01\u001b[0m\u001b[36m \u001b[0m│\u001b[35m \u001b[0m\u001b[35mEdit     \u001b[0m\u001b[35m \u001b[0m│\u001b[95m \u001b[0m\u001b[95m8f98b0f7-e4ff-4a…\u001b[0m\u001b[95m \u001b[0m│\u001b[36m \u001b[0m\u001b[36mMatrixImpedanceB…\u001b[0m\u001b[36m \u001b[0m│\u001b[32m \u001b[0m\u001b[32msourcebus_connec…\u001b[0m\u001b[32m \u001b[0m│\u001b[91m \u001b[0m\u001b[91m    sourcebus\u001b[0m\u001b[91m \u001b[0m│\u001b[38;5;45m \u001b[0m\u001b[38;5;45mscenario_1\u001b[0m\u001b[38;5;45m \u001b[0m│\n",
       "│\u001b[36m            \u001b[0m│\u001b[35m           \u001b[0m│\u001b[95m                   \u001b[0m│\u001b[36m                   \u001b[0m│\u001b[32m                   \u001b[0m│\u001b[91m \u001b[0m\u001b[91m    connector\u001b[0m\u001b[91m \u001b[0m│\u001b[38;5;45m            \u001b[0m│\n",
       "└────────────┴───────────┴───────────────────┴───────────────────┴───────────────────┴───────────────┴────────────┘\n"
      ]
     },
     "metadata": {},
     "output_type": "display_data"
    }
   ],
   "source": [
    "from datetime import date\n",
    "\n",
    "from gdm.tracked_changes import apply_updates_to_system\n",
    "\n",
    "new_system = apply_updates_to_system(\n",
    "    tracked_changes=tracked_changes, system=base_model, catalog=catalog\n",
    ")"
   ]
  },
  {
   "cell_type": "code",
   "execution_count": 21,
   "metadata": {},
   "outputs": [
    {
     "data": {
      "text/html": [
       "<pre style=\"white-space:pre;overflow-x:auto;line-height:normal;font-family:Menlo,'DejaVu Sans Mono',consolas,'Courier New',monospace\"><span style=\"font-weight: bold\">System                          </span>\n",
       "┏━━━━━━━━━━━━━━━━━━━━━━┳━━━━━━━┓\n",
       "┃<span style=\"font-weight: bold\"> Property             </span>┃<span style=\"font-weight: bold\"> Value </span>┃\n",
       "┡━━━━━━━━━━━━━━━━━━━━━━╇━━━━━━━┩\n",
       "│ System name          │       │\n",
       "│ Data format version  │ 2.0.0 │\n",
       "│ Components attached  │   437 │\n",
       "│ Time Series attached │     0 │\n",
       "│ Description          │       │\n",
       "└──────────────────────┴───────┘\n",
       "</pre>\n"
      ],
      "text/plain": [
       "\u001b[1mSystem                          \u001b[0m\n",
       "┏━━━━━━━━━━━━━━━━━━━━━━┳━━━━━━━┓\n",
       "┃\u001b[1m \u001b[0m\u001b[1mProperty            \u001b[0m\u001b[1m \u001b[0m┃\u001b[1m \u001b[0m\u001b[1mValue\u001b[0m\u001b[1m \u001b[0m┃\n",
       "┡━━━━━━━━━━━━━━━━━━━━━━╇━━━━━━━┩\n",
       "│ System name          │       │\n",
       "│ Data format version  │ 2.0.0 │\n",
       "│ Components attached  │   437 │\n",
       "│ Time Series attached │     0 │\n",
       "│ Description          │       │\n",
       "└──────────────────────┴───────┘\n"
      ]
     },
     "metadata": {},
     "output_type": "display_data"
    },
    {
     "data": {
      "text/html": [
       "<pre style=\"white-space:pre;overflow-x:auto;line-height:normal;font-family:Menlo,'DejaVu Sans Mono',consolas,'Courier New',monospace\"><span style=\"font-weight: bold\">Component Information                       </span>\n",
       "┏━━━━━━━━━━━━━━━━━━━━━━━━━━━━━━━━━━┳━━━━━━━┓\n",
       "┃<span style=\"font-weight: bold\"> Type                             </span>┃<span style=\"font-weight: bold\"> Count </span>┃\n",
       "┡━━━━━━━━━━━━━━━━━━━━━━━━━━━━━━━━━━╇━━━━━━━┩\n",
       "│ DistributionBus                  │    86 │\n",
       "│ DistributionLoad                 │    45 │\n",
       "│ DistributionTransformer          │    21 │\n",
       "│ DistributionTransformerEquipment │     5 │\n",
       "│ DistributionVoltageSource        │     1 │\n",
       "│ LoadEquipment                    │    45 │\n",
       "│ Location                         │     1 │\n",
       "│ MatrixImpedanceBranch            │    55 │\n",
       "│ MatrixImpedanceBranchEquipment   │    10 │\n",
       "│ MatrixImpedanceSwitch            │    12 │\n",
       "│ MatrixImpedanceSwitchEquipment   │     1 │\n",
       "│ PhaseLoadEquipment               │   135 │\n",
       "│ PhaseVoltageSourceEquipment      │     3 │\n",
       "│ VoltageLimitSet                  │     6 │\n",
       "│ VoltageSourceEquipment           │     1 │\n",
       "│ WindingEquipment                 │    10 │\n",
       "└──────────────────────────────────┴───────┘\n",
       "</pre>\n"
      ],
      "text/plain": [
       "\u001b[1mComponent Information                       \u001b[0m\n",
       "┏━━━━━━━━━━━━━━━━━━━━━━━━━━━━━━━━━━┳━━━━━━━┓\n",
       "┃\u001b[1m \u001b[0m\u001b[1mType                            \u001b[0m\u001b[1m \u001b[0m┃\u001b[1m \u001b[0m\u001b[1mCount\u001b[0m\u001b[1m \u001b[0m┃\n",
       "┡━━━━━━━━━━━━━━━━━━━━━━━━━━━━━━━━━━╇━━━━━━━┩\n",
       "│ DistributionBus                  │    86 │\n",
       "│ DistributionLoad                 │    45 │\n",
       "│ DistributionTransformer          │    21 │\n",
       "│ DistributionTransformerEquipment │     5 │\n",
       "│ DistributionVoltageSource        │     1 │\n",
       "│ LoadEquipment                    │    45 │\n",
       "│ Location                         │     1 │\n",
       "│ MatrixImpedanceBranch            │    55 │\n",
       "│ MatrixImpedanceBranchEquipment   │    10 │\n",
       "│ MatrixImpedanceSwitch            │    12 │\n",
       "│ MatrixImpedanceSwitchEquipment   │     1 │\n",
       "│ PhaseLoadEquipment               │   135 │\n",
       "│ PhaseVoltageSourceEquipment      │     3 │\n",
       "│ VoltageLimitSet                  │     6 │\n",
       "│ VoltageSourceEquipment           │     1 │\n",
       "│ WindingEquipment                 │    10 │\n",
       "└──────────────────────────────────┴───────┘\n"
      ]
     },
     "metadata": {},
     "output_type": "display_data"
    }
   ],
   "source": [
    "new_system.info()"
   ]
  },
  {
   "cell_type": "markdown",
   "metadata": {},
   "source": [
    "```{note}\n",
    "`update_date` date is an optional field. If no date is passed, all `scenario_1` updated are applied to the base system.\n",
    "```"
   ]
  },
  {
   "cell_type": "code",
   "execution_count": 22,
   "metadata": {},
   "outputs": [
    {
     "name": "stdout",
     "output_type": "stream",
     "text": [
      "[TrackedChange(scenario_name='scenario_1', update_date=datetime.date(2022, 1, 1), additions=[], edits=[PropertyEdit(name='length', value=<Quantity(100, 'meter')>, component_uuid=UUID('8f98b0f7-e4ff-4ac4-a4c7-d76b9d7a15fa'))], deletions=[]), TrackedChange(scenario_name='scenario_1', update_date=datetime.date(2023, 1, 1), additions=[UUID('aaaaaaaa-aaaa-aaaa-aaaa-aaaaaaaaaaaa')], edits=[], deletions=[]), TrackedChange(scenario_name='scenario_1', update_date=datetime.date(2024, 1, 1), additions=[], edits=[], deletions=[UUID('2aac110f-d0b7-4db0-b356-6bd7d6f3487b')])]\n"
     ]
    },
    {
     "data": {
      "text/html": [
       "<pre style=\"white-space:pre;overflow-x:auto;line-height:normal;font-family:Menlo,'DejaVu Sans Mono',consolas,'Courier New',monospace\"><span style=\"font-style: italic\">                                           Updates applied to the system                                           </span>\n",
       "┏━━━━━━━━━━━━┳━━━━━━━━━━━┳━━━━━━━━━━━━━━━━━━━┳━━━━━━━━━━━━━━━━━━━┳━━━━━━━━━━━━━━━━━━━┳━━━━━━━━━━━━━━━┳━━━━━━━━━━━━┓\n",
       "┃<span style=\"font-weight: bold\">  Timestamp </span>┃<span style=\"font-weight: bold\"> Operation </span>┃<span style=\"font-weight: bold\">              UUID </span>┃<span style=\"font-weight: bold\">    Component Type </span>┃<span style=\"font-weight: bold\">    Component Name </span>┃<span style=\"font-weight: bold\"> Connected bus </span>┃<span style=\"font-weight: bold\">   Scenario </span>┃\n",
       "┡━━━━━━━━━━━━╇━━━━━━━━━━━╇━━━━━━━━━━━━━━━━━━━╇━━━━━━━━━━━━━━━━━━━╇━━━━━━━━━━━━━━━━━━━╇━━━━━━━━━━━━━━━╇━━━━━━━━━━━━┩\n",
       "│<span style=\"color: #008080; text-decoration-color: #008080\"> 2022-01-01 </span>│<span style=\"color: #800080; text-decoration-color: #800080\"> Edit      </span>│<span style=\"color: #ff00ff; text-decoration-color: #ff00ff\"> 8f98b0f7-e4ff-4a… </span>│<span style=\"color: #008080; text-decoration-color: #008080\"> MatrixImpedanceB… </span>│<span style=\"color: #008000; text-decoration-color: #008000\"> sourcebus_connec… </span>│<span style=\"color: #ff0000; text-decoration-color: #ff0000\">     sourcebus </span>│<span style=\"color: #00d7ff; text-decoration-color: #00d7ff\"> scenario_1 </span>│\n",
       "│<span style=\"color: #008080; text-decoration-color: #008080\">            </span>│<span style=\"color: #800080; text-decoration-color: #800080\">           </span>│<span style=\"color: #ff00ff; text-decoration-color: #ff00ff\">                   </span>│<span style=\"color: #008080; text-decoration-color: #008080\">                   </span>│<span style=\"color: #008000; text-decoration-color: #008000\">                   </span>│<span style=\"color: #ff0000; text-decoration-color: #ff0000\">     connector </span>│<span style=\"color: #00d7ff; text-decoration-color: #00d7ff\">            </span>│\n",
       "│<span style=\"color: #008080; text-decoration-color: #008080\"> 2023-01-01 </span>│<span style=\"color: #800080; text-decoration-color: #800080\"> Addition  </span>│<span style=\"color: #ff00ff; text-decoration-color: #ff00ff\"> aaaaaaaa-aaaa-aa… </span>│<span style=\"color: #008080; text-decoration-color: #008080\">     LoadEquipment </span>│<span style=\"color: #008000; text-decoration-color: #008000\"> added_phase_load… </span>│<span style=\"color: #ff0000; text-decoration-color: #ff0000\">          None </span>│<span style=\"color: #00d7ff; text-decoration-color: #00d7ff\"> scenario_1 </span>│\n",
       "│<span style=\"color: #008080; text-decoration-color: #008080\"> 2024-01-01 </span>│<span style=\"color: #800080; text-decoration-color: #800080\"> Deletion  </span>│<span style=\"color: #ff00ff; text-decoration-color: #ff00ff\"> 2aac110f-d0b7-4d… </span>│<span style=\"color: #008080; text-decoration-color: #008080\">  DistributionLoad </span>│<span style=\"color: #008000; text-decoration-color: #008000\">        fdr1_load1 </span>│<span style=\"color: #ff0000; text-decoration-color: #ff0000\">   fdr1_2_load </span>│<span style=\"color: #00d7ff; text-decoration-color: #00d7ff\"> scenario_1 </span>│\n",
       "└────────────┴───────────┴───────────────────┴───────────────────┴───────────────────┴───────────────┴────────────┘\n",
       "</pre>\n"
      ],
      "text/plain": [
       "\u001b[3m                                           Updates applied to the system                                           \u001b[0m\n",
       "┏━━━━━━━━━━━━┳━━━━━━━━━━━┳━━━━━━━━━━━━━━━━━━━┳━━━━━━━━━━━━━━━━━━━┳━━━━━━━━━━━━━━━━━━━┳━━━━━━━━━━━━━━━┳━━━━━━━━━━━━┓\n",
       "┃\u001b[1m \u001b[0m\u001b[1m Timestamp\u001b[0m\u001b[1m \u001b[0m┃\u001b[1m \u001b[0m\u001b[1mOperation\u001b[0m\u001b[1m \u001b[0m┃\u001b[1m \u001b[0m\u001b[1m             UUID\u001b[0m\u001b[1m \u001b[0m┃\u001b[1m \u001b[0m\u001b[1m   Component Type\u001b[0m\u001b[1m \u001b[0m┃\u001b[1m \u001b[0m\u001b[1m   Component Name\u001b[0m\u001b[1m \u001b[0m┃\u001b[1m \u001b[0m\u001b[1mConnected bus\u001b[0m\u001b[1m \u001b[0m┃\u001b[1m \u001b[0m\u001b[1m  Scenario\u001b[0m\u001b[1m \u001b[0m┃\n",
       "┡━━━━━━━━━━━━╇━━━━━━━━━━━╇━━━━━━━━━━━━━━━━━━━╇━━━━━━━━━━━━━━━━━━━╇━━━━━━━━━━━━━━━━━━━╇━━━━━━━━━━━━━━━╇━━━━━━━━━━━━┩\n",
       "│\u001b[36m \u001b[0m\u001b[36m2022-01-01\u001b[0m\u001b[36m \u001b[0m│\u001b[35m \u001b[0m\u001b[35mEdit     \u001b[0m\u001b[35m \u001b[0m│\u001b[95m \u001b[0m\u001b[95m8f98b0f7-e4ff-4a…\u001b[0m\u001b[95m \u001b[0m│\u001b[36m \u001b[0m\u001b[36mMatrixImpedanceB…\u001b[0m\u001b[36m \u001b[0m│\u001b[32m \u001b[0m\u001b[32msourcebus_connec…\u001b[0m\u001b[32m \u001b[0m│\u001b[91m \u001b[0m\u001b[91m    sourcebus\u001b[0m\u001b[91m \u001b[0m│\u001b[38;5;45m \u001b[0m\u001b[38;5;45mscenario_1\u001b[0m\u001b[38;5;45m \u001b[0m│\n",
       "│\u001b[36m            \u001b[0m│\u001b[35m           \u001b[0m│\u001b[95m                   \u001b[0m│\u001b[36m                   \u001b[0m│\u001b[32m                   \u001b[0m│\u001b[91m \u001b[0m\u001b[91m    connector\u001b[0m\u001b[91m \u001b[0m│\u001b[38;5;45m            \u001b[0m│\n",
       "│\u001b[36m \u001b[0m\u001b[36m2023-01-01\u001b[0m\u001b[36m \u001b[0m│\u001b[35m \u001b[0m\u001b[35mAddition \u001b[0m\u001b[35m \u001b[0m│\u001b[95m \u001b[0m\u001b[95maaaaaaaa-aaaa-aa…\u001b[0m\u001b[95m \u001b[0m│\u001b[36m \u001b[0m\u001b[36m    LoadEquipment\u001b[0m\u001b[36m \u001b[0m│\u001b[32m \u001b[0m\u001b[32madded_phase_load…\u001b[0m\u001b[32m \u001b[0m│\u001b[91m \u001b[0m\u001b[91m         None\u001b[0m\u001b[91m \u001b[0m│\u001b[38;5;45m \u001b[0m\u001b[38;5;45mscenario_1\u001b[0m\u001b[38;5;45m \u001b[0m│\n",
       "│\u001b[36m \u001b[0m\u001b[36m2024-01-01\u001b[0m\u001b[36m \u001b[0m│\u001b[35m \u001b[0m\u001b[35mDeletion \u001b[0m\u001b[35m \u001b[0m│\u001b[95m \u001b[0m\u001b[95m2aac110f-d0b7-4d…\u001b[0m\u001b[95m \u001b[0m│\u001b[36m \u001b[0m\u001b[36m DistributionLoad\u001b[0m\u001b[36m \u001b[0m│\u001b[32m \u001b[0m\u001b[32m       fdr1_load1\u001b[0m\u001b[32m \u001b[0m│\u001b[91m \u001b[0m\u001b[91m  fdr1_2_load\u001b[0m\u001b[91m \u001b[0m│\u001b[38;5;45m \u001b[0m\u001b[38;5;45mscenario_1\u001b[0m\u001b[38;5;45m \u001b[0m│\n",
       "└────────────┴───────────┴───────────────────┴───────────────────┴───────────────────┴───────────────┴────────────┘\n"
      ]
     },
     "metadata": {},
     "output_type": "display_data"
    },
    {
     "data": {
      "text/html": [
       "<pre style=\"white-space:pre;overflow-x:auto;line-height:normal;font-family:Menlo,'DejaVu Sans Mono',consolas,'Courier New',monospace\"><span style=\"font-weight: bold\">System                          </span>\n",
       "┏━━━━━━━━━━━━━━━━━━━━━━┳━━━━━━━┓\n",
       "┃<span style=\"font-weight: bold\"> Property             </span>┃<span style=\"font-weight: bold\"> Value </span>┃\n",
       "┡━━━━━━━━━━━━━━━━━━━━━━╇━━━━━━━┩\n",
       "│ System name          │       │\n",
       "│ Data format version  │ 2.0.0 │\n",
       "│ Components attached  │   434 │\n",
       "│ Time Series attached │     0 │\n",
       "│ Description          │       │\n",
       "└──────────────────────┴───────┘\n",
       "</pre>\n"
      ],
      "text/plain": [
       "\u001b[1mSystem                          \u001b[0m\n",
       "┏━━━━━━━━━━━━━━━━━━━━━━┳━━━━━━━┓\n",
       "┃\u001b[1m \u001b[0m\u001b[1mProperty            \u001b[0m\u001b[1m \u001b[0m┃\u001b[1m \u001b[0m\u001b[1mValue\u001b[0m\u001b[1m \u001b[0m┃\n",
       "┡━━━━━━━━━━━━━━━━━━━━━━╇━━━━━━━┩\n",
       "│ System name          │       │\n",
       "│ Data format version  │ 2.0.0 │\n",
       "│ Components attached  │   434 │\n",
       "│ Time Series attached │     0 │\n",
       "│ Description          │       │\n",
       "└──────────────────────┴───────┘\n"
      ]
     },
     "metadata": {},
     "output_type": "display_data"
    },
    {
     "data": {
      "text/html": [
       "<pre style=\"white-space:pre;overflow-x:auto;line-height:normal;font-family:Menlo,'DejaVu Sans Mono',consolas,'Courier New',monospace\"><span style=\"font-weight: bold\">Component Information                       </span>\n",
       "┏━━━━━━━━━━━━━━━━━━━━━━━━━━━━━━━━━━┳━━━━━━━┓\n",
       "┃<span style=\"font-weight: bold\"> Type                             </span>┃<span style=\"font-weight: bold\"> Count </span>┃\n",
       "┡━━━━━━━━━━━━━━━━━━━━━━━━━━━━━━━━━━╇━━━━━━━┩\n",
       "│ DistributionBus                  │    86 │\n",
       "│ DistributionLoad                 │    44 │\n",
       "│ DistributionTransformer          │    21 │\n",
       "│ DistributionTransformerEquipment │     5 │\n",
       "│ DistributionVoltageSource        │     1 │\n",
       "│ LoadEquipment                    │    45 │\n",
       "│ Location                         │     1 │\n",
       "│ MatrixImpedanceBranch            │    55 │\n",
       "│ MatrixImpedanceBranchEquipment   │    10 │\n",
       "│ MatrixImpedanceSwitch            │    12 │\n",
       "│ MatrixImpedanceSwitchEquipment   │     1 │\n",
       "│ PhaseLoadEquipment               │   133 │\n",
       "│ PhaseVoltageSourceEquipment      │     3 │\n",
       "│ VoltageLimitSet                  │     6 │\n",
       "│ VoltageSourceEquipment           │     1 │\n",
       "│ WindingEquipment                 │    10 │\n",
       "└──────────────────────────────────┴───────┘\n",
       "</pre>\n"
      ],
      "text/plain": [
       "\u001b[1mComponent Information                       \u001b[0m\n",
       "┏━━━━━━━━━━━━━━━━━━━━━━━━━━━━━━━━━━┳━━━━━━━┓\n",
       "┃\u001b[1m \u001b[0m\u001b[1mType                            \u001b[0m\u001b[1m \u001b[0m┃\u001b[1m \u001b[0m\u001b[1mCount\u001b[0m\u001b[1m \u001b[0m┃\n",
       "┡━━━━━━━━━━━━━━━━━━━━━━━━━━━━━━━━━━╇━━━━━━━┩\n",
       "│ DistributionBus                  │    86 │\n",
       "│ DistributionLoad                 │    44 │\n",
       "│ DistributionTransformer          │    21 │\n",
       "│ DistributionTransformerEquipment │     5 │\n",
       "│ DistributionVoltageSource        │     1 │\n",
       "│ LoadEquipment                    │    45 │\n",
       "│ Location                         │     1 │\n",
       "│ MatrixImpedanceBranch            │    55 │\n",
       "│ MatrixImpedanceBranchEquipment   │    10 │\n",
       "│ MatrixImpedanceSwitch            │    12 │\n",
       "│ MatrixImpedanceSwitchEquipment   │     1 │\n",
       "│ PhaseLoadEquipment               │   133 │\n",
       "│ PhaseVoltageSourceEquipment      │     3 │\n",
       "│ VoltageLimitSet                  │     6 │\n",
       "│ VoltageSourceEquipment           │     1 │\n",
       "│ WindingEquipment                 │    10 │\n",
       "└──────────────────────────────────┴───────┘\n"
      ]
     },
     "metadata": {},
     "output_type": "display_data"
    }
   ],
   "source": [
    "tracked_changes = filter_tracked_changes_by_name_and_date(\n",
    "    system_changes,\n",
    "    scenario_name=\"scenario_1\",\n",
    ")\n",
    "print(tracked_changes)\n",
    "new_system = apply_updates_to_system(\n",
    "    tracked_changes=tracked_changes, system=base_model, catalog=catalog\n",
    ")\n",
    "new_system.info()"
   ]
  },
  {
   "cell_type": "code",
   "execution_count": null,
   "metadata": {},
   "outputs": [],
   "source": []
  }
 ],
 "metadata": {
  "kernelspec": {
   "display_name": "gdm2",
   "language": "python",
   "name": "python3"
  },
  "language_info": {
   "codemirror_mode": {
    "name": "ipython",
    "version": 3
   },
   "file_extension": ".py",
   "mimetype": "text/x-python",
   "name": "python",
   "nbconvert_exporter": "python",
   "pygments_lexer": "ipython3",
   "version": "3.12.0"
  },
  "widgets": {
   "application/vnd.jupyter.widget-state+json": {
    "state": {},
    "version_major": 2,
    "version_minor": 0
   }
  }
 },
 "nbformat": 4,
 "nbformat_minor": 4
}
