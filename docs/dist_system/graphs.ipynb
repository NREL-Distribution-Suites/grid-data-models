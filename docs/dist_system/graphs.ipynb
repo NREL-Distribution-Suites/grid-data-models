{
 "cells": [
  {
   "cell_type": "markdown",
   "metadata": {},
   "source": [
    "# System Graphs\n",
    "\n",
    "We start by loading a sample distribution system."
   ]
  },
  {
   "cell_type": "code",
   "execution_count": 1,
   "metadata": {},
   "outputs": [
    {
     "name": "stderr",
     "output_type": "stream",
     "text": [
      "/opt/homebrew/Caskroom/miniconda/base/envs/gdm2/lib/python3.12/site-packages/pydantic/_internal/_generate_schema.py:502: UserWarning: Ellipsis is not a Python type (it may be an instance of an object), Pydantic will allow any object with no validation since we cannot even enforce that the input is an instance of the given type. To get rid of this error wrap the type with `pydantic.SkipValidation`.\n",
      "  warn(\n"
     ]
    }
   ],
   "source": [
    "from gdm.distribution import DistributionSystem\n",
    "from gdmloader.constants import GCS_CASE_SOURCE\n",
    "from gdmloader.source import SystemLoader\n",
    "\n",
    "gdm_loader = SystemLoader()\n",
    "gdm_loader.add_source(GCS_CASE_SOURCE)\n",
    "\n",
    "distribution_system: DistributionSystem = gdm_loader.load_dataset(\n",
    "    source_name=GCS_CASE_SOURCE.name, \n",
    "    system_type=DistributionSystem, \n",
    "    dataset_name=\"three_feeder_switch\",\n",
    ")\n",
    "distribution_system.name = \"three_feeder_switch\""
   ]
  },
  {
   "cell_type": "markdown",
   "metadata": {},
   "source": [
    "Distribution systems have helper functions that return either undirected or directed graphs. These graph representations are useful for understanding model connectivity, such as when building constraints in CADET-OPT.\n",
    "\n",
    "```{warning}\n",
    "Undirected graphs contain complete connectivity information. If there are cycles in the undirected graphs (e.g., an open switch connected between two buses), edges will be removed to create a directed radial graph.\n",
    "```\n"
   ]
  },
  {
   "cell_type": "code",
   "execution_count": null,
   "metadata": {},
   "outputs": [
    {
     "name": "stdout",
     "output_type": "stream",
     "text": [
      "Graph with 86 nodes and 88 edges\n",
      "DiGraph with 86 nodes and 85 edges\n"
     ]
    }
   ],
   "source": [
    "undirected_graph = distribution_system.get_undirected_graph()\n",
    "print(undirected_graph)\n",
    "\n",
    "directed_graph = distribution_system.get_directed_graph()\n",
    "print(directed_graph)"
   ]
  },
  {
   "cell_type": "markdown",
   "metadata": {},
   "source": [
    "Graphs are lightweight and contain limited information, such as bus and edge names. Helper functions are provided to efficiently retrieve connectivity information for a particular node.\n"
   ]
  },
  {
   "cell_type": "code",
   "execution_count": 8,
   "metadata": {},
   "outputs": [
    {
     "name": "stdout",
     "output_type": "stream",
     "text": [
      "fdr1_load1 fdr1_2_load\n"
     ]
    }
   ],
   "source": [
    "from gdm.distribution.components import DistributionLoad\n",
    "\n",
    "loads = distribution_system.get_bus_connected_components(bus_name='fdr1_2_load', component_type=DistributionLoad)\n",
    "for load in loads:\n",
    "    print(load.name, load.bus.name)"
   ]
  }
 ],
 "metadata": {
  "kernelspec": {
   "display_name": "gdm2",
   "language": "python",
   "name": "python3"
  },
  "language_info": {
   "codemirror_mode": {
    "name": "ipython",
    "version": 3
   },
   "file_extension": ".py",
   "mimetype": "text/x-python",
   "name": "python",
   "nbconvert_exporter": "python",
   "pygments_lexer": "ipython3",
   "version": "3.12.0"
  },
  "widgets": {
   "application/vnd.jupyter.widget-state+json": {
    "state": {},
    "version_major": 2,
    "version_minor": 0
   }
  }
 },
 "nbformat": 4,
 "nbformat_minor": 4
}
