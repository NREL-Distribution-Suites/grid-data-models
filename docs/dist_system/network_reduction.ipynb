{
 "cells": [
  {
   "cell_type": "markdown",
   "metadata": {},
   "source": [
    "# Network Reduction\n",
    "\n",
    "The grid-data-models (GDM) package provides helper functions to facilitate the reduction of distribution models, making them more computationally efficient for specific analyses. Model reduction techniques are particularly useful when studying large distribution networks where simulating the entire model is unnecessary or resource-intensive.\n",
    "\n",
    "GDM currently supports two model reduction formulations:\n",
    "\n",
    "- Three-phase balanced representation\n",
    "- Primary network representation\n",
    "\n",
    "We start by loading a sample DistributionSystem.\n"
   ]
  },
  {
   "cell_type": "code",
   "execution_count": null,
   "metadata": {},
   "outputs": [
    {
     "name": "stderr",
     "output_type": "stream",
     "text": [
      "/opt/homebrew/Caskroom/miniconda/base/envs/gdm2/lib/python3.12/site-packages/pydantic/_internal/_generate_schema.py:502: UserWarning: Ellipsis is not a Python type (it may be an instance of an object), Pydantic will allow any object with no validation since we cannot even enforce that the input is an instance of the given type. To get rid of this error wrap the type with `pydantic.SkipValidation`.\n",
      "  warn(\n"
     ]
    },
    {
     "data": {
      "text/html": [
       "<pre style=\"white-space:pre;overflow-x:auto;line-height:normal;font-family:Menlo,'DejaVu Sans Mono',consolas,'Courier New',monospace\"><span style=\"font-weight: bold\">System                                </span>\n",
       "┏━━━━━━━━━━━━━━━━━━━━━━┳━━━━━━━━━━━━━┓\n",
       "┃<span style=\"font-weight: bold\"> Property             </span>┃<span style=\"font-weight: bold\">       Value </span>┃\n",
       "┡━━━━━━━━━━━━━━━━━━━━━━╇━━━━━━━━━━━━━┩\n",
       "│ System name          │ p1rhs7_1247 │\n",
       "│ Data format version  │       2.0.1 │\n",
       "│ Components attached  │       13370 │\n",
       "│ Time Series attached │           0 │\n",
       "│ Description          │             │\n",
       "└──────────────────────┴─────────────┘\n",
       "</pre>\n"
      ],
      "text/plain": [
       "\u001b[1mSystem                                \u001b[0m\n",
       "┏━━━━━━━━━━━━━━━━━━━━━━┳━━━━━━━━━━━━━┓\n",
       "┃\u001b[1m \u001b[0m\u001b[1mProperty            \u001b[0m\u001b[1m \u001b[0m┃\u001b[1m \u001b[0m\u001b[1m      Value\u001b[0m\u001b[1m \u001b[0m┃\n",
       "┡━━━━━━━━━━━━━━━━━━━━━━╇━━━━━━━━━━━━━┩\n",
       "│ System name          │ p1rhs7_1247 │\n",
       "│ Data format version  │       2.0.1 │\n",
       "│ Components attached  │       13370 │\n",
       "│ Time Series attached │           0 │\n",
       "│ Description          │             │\n",
       "└──────────────────────┴─────────────┘\n"
      ]
     },
     "metadata": {},
     "output_type": "display_data"
    },
    {
     "data": {
      "text/html": [
       "<pre style=\"white-space:pre;overflow-x:auto;line-height:normal;font-family:Menlo,'DejaVu Sans Mono',consolas,'Courier New',monospace\"><span style=\"font-weight: bold\">Component Information                       </span>\n",
       "┏━━━━━━━━━━━━━━━━━━━━━━━━━━━━━━━━━━┳━━━━━━━┓\n",
       "┃<span style=\"font-weight: bold\"> Type                             </span>┃<span style=\"font-weight: bold\"> Count </span>┃\n",
       "┡━━━━━━━━━━━━━━━━━━━━━━━━━━━━━━━━━━╇━━━━━━━┩\n",
       "│ DistributionBus                  │  2510 │\n",
       "│ DistributionLoad                 │  1896 │\n",
       "│ DistributionTransformer          │   503 │\n",
       "│ DistributionTransformerEquipment │    10 │\n",
       "│ DistributionVoltageSource        │     1 │\n",
       "│ LoadEquipment                    │  1896 │\n",
       "│ Location                         │  2510 │\n",
       "│ MatrixImpedanceBranch            │  1841 │\n",
       "│ MatrixImpedanceBranchEquipment   │    38 │\n",
       "│ MatrixImpedanceFuse              │    81 │\n",
       "│ MatrixImpedanceFuseEquipment     │     6 │\n",
       "│ MatrixImpedanceSwitch            │    84 │\n",
       "│ MatrixImpedanceSwitchEquipment   │    15 │\n",
       "│ PhaseLoadEquipment               │  1948 │\n",
       "│ PhaseVoltageSourceEquipment      │     3 │\n",
       "│ TimeCurrentCurve                 │     1 │\n",
       "│ VoltageLimitSet                  │     8 │\n",
       "│ VoltageSourceEquipment           │     1 │\n",
       "│ WindingEquipment                 │    18 │\n",
       "└──────────────────────────────────┴───────┘\n",
       "</pre>\n"
      ],
      "text/plain": [
       "\u001b[1mComponent Information                       \u001b[0m\n",
       "┏━━━━━━━━━━━━━━━━━━━━━━━━━━━━━━━━━━┳━━━━━━━┓\n",
       "┃\u001b[1m \u001b[0m\u001b[1mType                            \u001b[0m\u001b[1m \u001b[0m┃\u001b[1m \u001b[0m\u001b[1mCount\u001b[0m\u001b[1m \u001b[0m┃\n",
       "┡━━━━━━━━━━━━━━━━━━━━━━━━━━━━━━━━━━╇━━━━━━━┩\n",
       "│ DistributionBus                  │  2510 │\n",
       "│ DistributionLoad                 │  1896 │\n",
       "│ DistributionTransformer          │   503 │\n",
       "│ DistributionTransformerEquipment │    10 │\n",
       "│ DistributionVoltageSource        │     1 │\n",
       "│ LoadEquipment                    │  1896 │\n",
       "│ Location                         │  2510 │\n",
       "│ MatrixImpedanceBranch            │  1841 │\n",
       "│ MatrixImpedanceBranchEquipment   │    38 │\n",
       "│ MatrixImpedanceFuse              │    81 │\n",
       "│ MatrixImpedanceFuseEquipment     │     6 │\n",
       "│ MatrixImpedanceSwitch            │    84 │\n",
       "│ MatrixImpedanceSwitchEquipment   │    15 │\n",
       "│ PhaseLoadEquipment               │  1948 │\n",
       "│ PhaseVoltageSourceEquipment      │     3 │\n",
       "│ TimeCurrentCurve                 │     1 │\n",
       "│ VoltageLimitSet                  │     8 │\n",
       "│ VoltageSourceEquipment           │     1 │\n",
       "│ WindingEquipment                 │    18 │\n",
       "└──────────────────────────────────┴───────┘\n"
      ]
     },
     "metadata": {},
     "output_type": "display_data"
    }
   ],
   "source": [
    "from gdm.distribution import DistributionSystem\n",
    "from gdmloader.constants import GCS_CASE_SOURCE\n",
    "from gdmloader.source import SystemLoader\n",
    "\n",
    "gdm_loader = SystemLoader()\n",
    "gdm_loader.add_source(GCS_CASE_SOURCE)\n",
    "\n",
    "distribution_system: DistributionSystem = gdm_loader.load_dataset(\n",
    "    source_name=GCS_CASE_SOURCE.name, \n",
    "    system_type=DistributionSystem, \n",
    "    dataset_name=\"p1rhs7_1247\",\n",
    ")\n",
    "distribution_system.name = \"p1rhs7_1247\"\n",
    "distribution_system.info()"
   ]
  },
  {
   "cell_type": "markdown",
   "metadata": {},
   "source": [
    "## Three-Phase Balanced Representation\n",
    "\n",
    "The model is reduced by representing only the three-phase buses in the system. This formulation is particularly useful for system-level studies where maintaining a balanced representation of the network is sufficient.\n"
   ]
  },
  {
   "cell_type": "code",
   "execution_count": 2,
   "metadata": {},
   "outputs": [
    {
     "data": {
      "text/html": [
       "<pre style=\"white-space:pre;overflow-x:auto;line-height:normal;font-family:Menlo,'DejaVu Sans Mono',consolas,'Courier New',monospace\"><span style=\"font-weight: bold\">System                                   </span>\n",
       "┏━━━━━━━━━━━━━━━━━━━━━━┳━━━━━━━━━━━━━━━━┓\n",
       "┃<span style=\"font-weight: bold\"> Property             </span>┃<span style=\"font-weight: bold\">          Value </span>┃\n",
       "┡━━━━━━━━━━━━━━━━━━━━━━╇━━━━━━━━━━━━━━━━┩\n",
       "│ System name          │ reduced_system │\n",
       "│ Data format version  │          2.0.1 │\n",
       "│ Components attached  │           1953 │\n",
       "│ Time Series attached │              0 │\n",
       "│ Description          │                │\n",
       "└──────────────────────┴────────────────┘\n",
       "</pre>\n"
      ],
      "text/plain": [
       "\u001b[1mSystem                                   \u001b[0m\n",
       "┏━━━━━━━━━━━━━━━━━━━━━━┳━━━━━━━━━━━━━━━━┓\n",
       "┃\u001b[1m \u001b[0m\u001b[1mProperty            \u001b[0m\u001b[1m \u001b[0m┃\u001b[1m \u001b[0m\u001b[1m         Value\u001b[0m\u001b[1m \u001b[0m┃\n",
       "┡━━━━━━━━━━━━━━━━━━━━━━╇━━━━━━━━━━━━━━━━┩\n",
       "│ System name          │ reduced_system │\n",
       "│ Data format version  │          2.0.1 │\n",
       "│ Components attached  │           1953 │\n",
       "│ Time Series attached │              0 │\n",
       "│ Description          │                │\n",
       "└──────────────────────┴────────────────┘\n"
      ]
     },
     "metadata": {},
     "output_type": "display_data"
    },
    {
     "data": {
      "text/html": [
       "<pre style=\"white-space:pre;overflow-x:auto;line-height:normal;font-family:Menlo,'DejaVu Sans Mono',consolas,'Courier New',monospace\"><span style=\"font-weight: bold\">Component Information                       </span>\n",
       "┏━━━━━━━━━━━━━━━━━━━━━━━━━━━━━━━━━━┳━━━━━━━┓\n",
       "┃<span style=\"font-weight: bold\"> Type                             </span>┃<span style=\"font-weight: bold\"> Count </span>┃\n",
       "┡━━━━━━━━━━━━━━━━━━━━━━━━━━━━━━━━━━╇━━━━━━━┩\n",
       "│ DistributionBus                  │   328 │\n",
       "│ DistributionLoad                 │   190 │\n",
       "│ DistributionTransformer          │    22 │\n",
       "│ DistributionTransformerEquipment │     2 │\n",
       "│ DistributionVoltageSource        │     1 │\n",
       "│ LoadEquipment                    │   190 │\n",
       "│ Location                         │   328 │\n",
       "│ MatrixImpedanceBranch            │   248 │\n",
       "│ MatrixImpedanceBranchEquipment   │     8 │\n",
       "│ MatrixImpedanceSwitch            │    57 │\n",
       "│ MatrixImpedanceSwitchEquipment   │     9 │\n",
       "│ PhaseLoadEquipment               │   556 │\n",
       "│ PhaseVoltageSourceEquipment      │     3 │\n",
       "│ VoltageLimitSet                  │     6 │\n",
       "│ VoltageSourceEquipment           │     1 │\n",
       "│ WindingEquipment                 │     4 │\n",
       "└──────────────────────────────────┴───────┘\n",
       "</pre>\n"
      ],
      "text/plain": [
       "\u001b[1mComponent Information                       \u001b[0m\n",
       "┏━━━━━━━━━━━━━━━━━━━━━━━━━━━━━━━━━━┳━━━━━━━┓\n",
       "┃\u001b[1m \u001b[0m\u001b[1mType                            \u001b[0m\u001b[1m \u001b[0m┃\u001b[1m \u001b[0m\u001b[1mCount\u001b[0m\u001b[1m \u001b[0m┃\n",
       "┡━━━━━━━━━━━━━━━━━━━━━━━━━━━━━━━━━━╇━━━━━━━┩\n",
       "│ DistributionBus                  │   328 │\n",
       "│ DistributionLoad                 │   190 │\n",
       "│ DistributionTransformer          │    22 │\n",
       "│ DistributionTransformerEquipment │     2 │\n",
       "│ DistributionVoltageSource        │     1 │\n",
       "│ LoadEquipment                    │   190 │\n",
       "│ Location                         │   328 │\n",
       "│ MatrixImpedanceBranch            │   248 │\n",
       "│ MatrixImpedanceBranchEquipment   │     8 │\n",
       "│ MatrixImpedanceSwitch            │    57 │\n",
       "│ MatrixImpedanceSwitchEquipment   │     9 │\n",
       "│ PhaseLoadEquipment               │   556 │\n",
       "│ PhaseVoltageSourceEquipment      │     3 │\n",
       "│ VoltageLimitSet                  │     6 │\n",
       "│ VoltageSourceEquipment           │     1 │\n",
       "│ WindingEquipment                 │     4 │\n",
       "└──────────────────────────────────┴───────┘\n"
      ]
     },
     "metadata": {},
     "output_type": "display_data"
    }
   ],
   "source": [
    "from gdm.distribution.model_reduction import reduce_to_three_phase_system\n",
    "from gdm.distribution  import DistributionSystem\n",
    "\n",
    "three_phase_gdm_model: DistributionSystem = reduce_to_three_phase_system(\n",
    "    distribution_system, \n",
    "    name=\"reduced_system\", \n",
    "    agg_timeseries=False\n",
    ")\n",
    "three_phase_gdm_model.info()"
   ]
  },
  {
   "cell_type": "markdown",
   "metadata": {},
   "source": [
    "\n",
    "## Primary Network Representation\n",
    "\n",
    "This approach involves lumping loads, generation, and capacitors and representing them on the primary network. All secondary networks are removed, resulting in a streamlined model that captures the essential characteristics of the primary distribution network while discarding unnecessary details.\n"
   ]
  },
  {
   "cell_type": "code",
   "execution_count": 3,
   "metadata": {},
   "outputs": [
    {
     "data": {
      "text/html": [
       "<pre style=\"white-space:pre;overflow-x:auto;line-height:normal;font-family:Menlo,'DejaVu Sans Mono',consolas,'Courier New',monospace\"><span style=\"font-weight: bold\">System                                   </span>\n",
       "┏━━━━━━━━━━━━━━━━━━━━━━┳━━━━━━━━━━━━━━━━┓\n",
       "┃<span style=\"font-weight: bold\"> Property             </span>┃<span style=\"font-weight: bold\">          Value </span>┃\n",
       "┡━━━━━━━━━━━━━━━━━━━━━━╇━━━━━━━━━━━━━━━━┩\n",
       "│ System name          │ reduced_system │\n",
       "│ Data format version  │          2.0.1 │\n",
       "│ Components attached  │           4289 │\n",
       "│ Time Series attached │              0 │\n",
       "│ Description          │                │\n",
       "└──────────────────────┴────────────────┘\n",
       "</pre>\n"
      ],
      "text/plain": [
       "\u001b[1mSystem                                   \u001b[0m\n",
       "┏━━━━━━━━━━━━━━━━━━━━━━┳━━━━━━━━━━━━━━━━┓\n",
       "┃\u001b[1m \u001b[0m\u001b[1mProperty            \u001b[0m\u001b[1m \u001b[0m┃\u001b[1m \u001b[0m\u001b[1m         Value\u001b[0m\u001b[1m \u001b[0m┃\n",
       "┡━━━━━━━━━━━━━━━━━━━━━━╇━━━━━━━━━━━━━━━━┩\n",
       "│ System name          │ reduced_system │\n",
       "│ Data format version  │          2.0.1 │\n",
       "│ Components attached  │           4289 │\n",
       "│ Time Series attached │              0 │\n",
       "│ Description          │                │\n",
       "└──────────────────────┴────────────────┘\n"
      ]
     },
     "metadata": {},
     "output_type": "display_data"
    },
    {
     "data": {
      "text/html": [
       "<pre style=\"white-space:pre;overflow-x:auto;line-height:normal;font-family:Menlo,'DejaVu Sans Mono',consolas,'Courier New',monospace\"><span style=\"font-weight: bold\">Component Information                       </span>\n",
       "┏━━━━━━━━━━━━━━━━━━━━━━━━━━━━━━━━━━┳━━━━━━━┓\n",
       "┃<span style=\"font-weight: bold\"> Type                             </span>┃<span style=\"font-weight: bold\"> Count </span>┃\n",
       "┡━━━━━━━━━━━━━━━━━━━━━━━━━━━━━━━━━━╇━━━━━━━┩\n",
       "│ DistributionBus                  │   796 │\n",
       "│ DistributionLoad                 │   502 │\n",
       "│ DistributionTransformer          │     1 │\n",
       "│ DistributionTransformerEquipment │     1 │\n",
       "│ DistributionVoltageSource        │     1 │\n",
       "│ LoadEquipment                    │   502 │\n",
       "│ Location                         │   796 │\n",
       "│ MatrixImpedanceBranch            │   629 │\n",
       "│ MatrixImpedanceBranchEquipment   │     8 │\n",
       "│ MatrixImpedanceFuse              │    81 │\n",
       "│ MatrixImpedanceFuseEquipment     │     6 │\n",
       "│ MatrixImpedanceSwitch            │    84 │\n",
       "│ MatrixImpedanceSwitchEquipment   │    15 │\n",
       "│ PhaseLoadEquipment               │   856 │\n",
       "│ PhaseVoltageSourceEquipment      │     3 │\n",
       "│ TimeCurrentCurve                 │     1 │\n",
       "│ VoltageLimitSet                  │     4 │\n",
       "│ VoltageSourceEquipment           │     1 │\n",
       "│ WindingEquipment                 │     2 │\n",
       "└──────────────────────────────────┴───────┘\n",
       "</pre>\n"
      ],
      "text/plain": [
       "\u001b[1mComponent Information                       \u001b[0m\n",
       "┏━━━━━━━━━━━━━━━━━━━━━━━━━━━━━━━━━━┳━━━━━━━┓\n",
       "┃\u001b[1m \u001b[0m\u001b[1mType                            \u001b[0m\u001b[1m \u001b[0m┃\u001b[1m \u001b[0m\u001b[1mCount\u001b[0m\u001b[1m \u001b[0m┃\n",
       "┡━━━━━━━━━━━━━━━━━━━━━━━━━━━━━━━━━━╇━━━━━━━┩\n",
       "│ DistributionBus                  │   796 │\n",
       "│ DistributionLoad                 │   502 │\n",
       "│ DistributionTransformer          │     1 │\n",
       "│ DistributionTransformerEquipment │     1 │\n",
       "│ DistributionVoltageSource        │     1 │\n",
       "│ LoadEquipment                    │   502 │\n",
       "│ Location                         │   796 │\n",
       "│ MatrixImpedanceBranch            │   629 │\n",
       "│ MatrixImpedanceBranchEquipment   │     8 │\n",
       "│ MatrixImpedanceFuse              │    81 │\n",
       "│ MatrixImpedanceFuseEquipment     │     6 │\n",
       "│ MatrixImpedanceSwitch            │    84 │\n",
       "│ MatrixImpedanceSwitchEquipment   │    15 │\n",
       "│ PhaseLoadEquipment               │   856 │\n",
       "│ PhaseVoltageSourceEquipment      │     3 │\n",
       "│ TimeCurrentCurve                 │     1 │\n",
       "│ VoltageLimitSet                  │     4 │\n",
       "│ VoltageSourceEquipment           │     1 │\n",
       "│ WindingEquipment                 │     2 │\n",
       "└──────────────────────────────────┴───────┘\n"
      ]
     },
     "metadata": {},
     "output_type": "display_data"
    }
   ],
   "source": [
    "from gdm.distribution.model_reduction import reduce_to_primary_system\n",
    "from gdm.distribution import DistributionSystem\n",
    "\n",
    "primary_gdm_model: DistributionSystem = reduce_to_primary_system(\n",
    "    distribution_system, \n",
    "    name=\"reduced_system\", \n",
    "    agg_timeseries=False\n",
    ")\n",
    "primary_gdm_model.info()"
   ]
  },
  {
   "cell_type": "markdown",
   "metadata": {},
   "source": [
    "\n",
    "## Support for Time Series Aggregation\n",
    "\n",
    "Model reduction algorithms aggregate components. Additionally, `agg_timeseries` can be set to true to aggregate time series profiles.\n"
   ]
  },
  {
   "cell_type": "code",
   "execution_count": 6,
   "metadata": {},
   "outputs": [],
   "source": [
    "from infrasys.time_series_models import SingleTimeSeries\n",
    "\n",
    "three_phase_gdm_model: DistributionSystem = reduce_to_three_phase_system(\n",
    "    distribution_system, \n",
    "    name=\"reduced_system\", \n",
    "    agg_timeseries=True, \n",
    "    time_series_type=SingleTimeSeries\n",
    ")"
   ]
  },
  {
   "cell_type": "code",
   "execution_count": null,
   "metadata": {},
   "outputs": [],
   "source": []
  }
 ],
 "metadata": {
  "kernelspec": {
   "display_name": "gdm2",
   "language": "python",
   "name": "python3"
  },
  "language_info": {
   "codemirror_mode": {
    "name": "ipython",
    "version": 3
   },
   "file_extension": ".py",
   "mimetype": "text/x-python",
   "name": "python",
   "nbconvert_exporter": "python",
   "pygments_lexer": "ipython3",
   "version": "3.12.0"
  },
  "widgets": {
   "application/vnd.jupyter.widget-state+json": {
    "state": {},
    "version_major": 2,
    "version_minor": 0
   }
  }
 },
 "nbformat": 4,
 "nbformat_minor": 4
}
